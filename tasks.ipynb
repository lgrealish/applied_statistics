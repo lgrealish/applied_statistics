{
 "cells": [
  {
   "cell_type": "markdown",
   "metadata": {},
   "source": [
    "# Applied Statistics Tasks\n",
    "\n",
    "**Linda Grealish**\n",
    "\n",
    "***"
   ]
  },
  {
   "cell_type": "markdown",
   "metadata": {},
   "source": [
    "# Table of contents\n",
    " * [Task 1](#task-1)\n",
    " * [Task 2](#task-2)\n",
    " * [Task 3](#task-3)\n",
    " * [Task 4](#task-4)\n"
   ]
  },
  {
   "cell_type": "markdown",
   "metadata": {},
   "source": [
    "***"
   ]
  },
  {
   "cell_type": "markdown",
   "metadata": {},
   "source": [
    "## Task 1 <a name=\"task-1\"></a>"
   ]
  },
  {
   "cell_type": "markdown",
   "metadata": {},
   "source": [
    "Suppose we alter the Lady Tasting Tea experiment to involve twelve cups of tea.\n",
    "Six have the milk in first and the other six having tea in first.\n",
    "A person claims they have the special power of being able to tell whether the tea or the milk went into a cup first upon tasting it.\n",
    "You agree to accept their claim if they can tell which of the six cups in your experiment had the milk in first.\n",
    "\n",
    "Calculate, using Python, the probability that they select the correct six cups.\n",
    "Here you should assume that they have no special powers in figuring it out, that they are just guessing.\n",
    "Remember to show and justify your workings in code and MarkDown cells.\n",
    "\n",
    "Suppose, now, you are willing to accept one error.\n",
    "Once they select the six cups they think had the milk in first, you will give them the benefit of the doubt should they have selected at least five of the correct cups.\n",
    "Calculate the probability, assuming they have no special powers, that the person makes at most one error.\n",
    "\n",
    "Would you accept two errors? Explain."
   ]
  },
  {
   "cell_type": "code",
   "execution_count": 33,
   "metadata": {},
   "outputs": [],
   "source": [
    "import math"
   ]
  },
  {
   "cell_type": "code",
   "execution_count": 34,
   "metadata": {},
   "outputs": [],
   "source": [
    "# Number of cups in total\n",
    "no_cups = 12\n",
    "\n",
    "# Number of cups of tea with milk in first.\n",
    "no_cups_milk_first = 6\n",
    "\n",
    "# Number of cups of tea with tea in first.\n",
    "no_cups_tea_first = 6\n"
   ]
  },
  {
   "cell_type": "code",
   "execution_count": 35,
   "metadata": {},
   "outputs": [
    {
     "data": {
      "text/plain": [
       "924"
      ]
     },
     "execution_count": 35,
     "metadata": {},
     "output_type": "execute_result"
    }
   ],
   "source": [
    "# Number of ways of selecting four cups from eight.\n",
    "ways = math.comb(no_cups, no_cups_milk_first)\n",
    "\n",
    "# Show.\n",
    "ways"
   ]
  },
  {
   "cell_type": "code",
   "execution_count": 36,
   "metadata": {},
   "outputs": [],
   "source": [
    "# Define function to calculate number of possible combinations\n",
    "def number_combinations(n, k):\n",
    "  return math.comb(n, k)\n"
   ]
  },
  {
   "cell_type": "code",
   "execution_count": 37,
   "metadata": {},
   "outputs": [
    {
     "name": "stdout",
     "output_type": "stream",
     "text": [
      "The total number of combinations is 924\n"
     ]
    }
   ],
   "source": [
    "# Calculate total number of combinations possible\n",
    "total_ways = number_combinations(12, 6)\n",
    "total_ways\n",
    "print(f'The total number of combinations is {total_ways}')"
   ]
  },
  {
   "cell_type": "code",
   "execution_count": 38,
   "metadata": {},
   "outputs": [
    {
     "data": {
      "text/plain": [
       "0.0010822510822510823"
      ]
     },
     "execution_count": 38,
     "metadata": {},
     "output_type": "execute_result"
    }
   ],
   "source": [
    "# Calculate the probability of guessing correctly\n",
    "p_correct_selection = 1 / total_ways\n",
    "p_correct_selection"
   ]
  },
  {
   "cell_type": "code",
   "execution_count": 39,
   "metadata": {},
   "outputs": [
    {
     "name": "stdout",
     "output_type": "stream",
     "text": [
      "Total number of ways to select 6 cups from 12: 924\n",
      "Probability of selecting the correct 6 cups: 0.0010822511\n"
     ]
    }
   ],
   "source": [
    "# Output the result\n",
    "print(f\"Total number of ways to select 6 cups from 12: {total_ways}\")\n",
    "print(f\"Probability of selecting the correct 6 cups: {p_correct_selection:.10f}\")"
   ]
  },
  {
   "cell_type": "code",
   "execution_count": 40,
   "metadata": {},
   "outputs": [],
   "source": [
    "# Probability of selecting exactly 6 correct cups (no errors)\n",
    "p_exact_6_correct = 1 / total_ways\n",
    "\n",
    "# Probability of selecting exactly 5 correct cups (1 error)\n",
    "# Choose 5 correct from 6, and 1 incorrect from 6\n",
    "ways_to_choose_5_correct = number_combinations(6, 5)\n",
    "ways_to_choose_1_incorrect = number_combinations(6, 1)\n",
    "p_exact_5_correct = (ways_to_choose_5_correct * ways_to_choose_1_incorrect) / total_ways\n",
    "\n",
    "# Total probability of making at most 1 error\n",
    "p_at_most_1_error = p_exact_6_correct + p_exact_5_correct\n"
   ]
  },
  {
   "cell_type": "code",
   "execution_count": 41,
   "metadata": {},
   "outputs": [
    {
     "name": "stdout",
     "output_type": "stream",
     "text": [
      "Probability of selecting exactly 6 correct cups (no errors): 0.0010822511\n",
      "Probability of selecting exactly 5 correct cups (1 error): 0.0389610390\n",
      "Total probability of making at most 1 error (0 or 1 error): 0.0400432900\n"
     ]
    }
   ],
   "source": [
    "# Output the result\n",
    "print(f\"Probability of selecting exactly 6 correct cups (no errors): {p_exact_6_correct:.10f}\")\n",
    "print(f\"Probability of selecting exactly 5 correct cups (1 error): {p_exact_5_correct:.10f}\")\n",
    "print(f\"Total probability of making at most 1 error (0 or 1 error): {p_at_most_1_error:.10f}\")"
   ]
  },
  {
   "cell_type": "code",
   "execution_count": 42,
   "metadata": {},
   "outputs": [],
   "source": [
    "# Probability of selecting exactly 6 correct cups (no errors)\n",
    "p_exact_6_correct = 1 / total_ways\n",
    "\n",
    "# Probability of selecting exactly 4 correct cups (2 error)\n",
    "# Choose 4 correct from 6, and 2 incorrect from 6\n",
    "ways_to_choose_4_correct = number_combinations(6, 4)\n",
    "ways_to_choose_2_incorrect = number_combinations(6, 2)\n",
    "p_exact_4_correct = (ways_to_choose_4_correct * ways_to_choose_2_incorrect) / total_ways\n",
    "\n",
    "# Total probability of making at most 2 error\n",
    "p_at_most_2_errors = p_exact_6_correct + p_exact_5_correct + p_exact_4_correct"
   ]
  },
  {
   "cell_type": "code",
   "execution_count": 43,
   "metadata": {},
   "outputs": [
    {
     "name": "stdout",
     "output_type": "stream",
     "text": [
      "Probability of selecting exactly 6 correct cups (no errors): 0.0010822511\n",
      "Probability of selecting exactly 5 correct cups (1 error): 0.0389610390\n",
      "Probability of selecting exactly 4 correct cups (2 errors): 0.2435064935\n",
      "Total probability of making at most 2 errors (0, 1 or 2 errors): 0.2835497835\n"
     ]
    }
   ],
   "source": [
    "# Output the result\n",
    "print(f\"Probability of selecting exactly 6 correct cups (no errors): {p_exact_6_correct:.10f}\")\n",
    "print(f\"Probability of selecting exactly 5 correct cups (1 error): {p_exact_5_correct:.10f}\")\n",
    "print(f\"Probability of selecting exactly 4 correct cups (2 errors): {p_exact_4_correct:.10f}\")\n",
    "print(f\"Total probability of making at most 2 errors (0, 1 or 2 errors): {p_at_most_2_errors:.10f}\")"
   ]
  },
  {
   "cell_type": "code",
   "execution_count": 44,
   "metadata": {},
   "outputs": [],
   "source": [
    "# Assuming a significance level of 0.05 for evaluating the null\n",
    "alpha = 0.05"
   ]
  },
  {
   "cell_type": "code",
   "execution_count": 45,
   "metadata": {},
   "outputs": [
    {
     "name": "stdout",
     "output_type": "stream",
     "text": [
      "Based on the lady making at most 1 error, the null hypothesis can be rejected.\n"
     ]
    }
   ],
   "source": [
    "# Testing the null hypothesis based on allowing at most 1 error\n",
    "\n",
    "if p_at_most_1_error < alpha:\n",
    "    print(\"Based on the lady making at most 1 error, the null hypothesis can be rejected.\")\n",
    "else:\n",
    "    print(\"Based on the lady making at most 1 error, the null hypothesis cannot be rejected.\")"
   ]
  },
  {
   "cell_type": "code",
   "execution_count": 46,
   "metadata": {},
   "outputs": [
    {
     "name": "stdout",
     "output_type": "stream",
     "text": [
      "Based on the lady making at most 2 errors the null hypothesis cannot be rejected.\n"
     ]
    }
   ],
   "source": [
    "# Testing the null hypothesis based on allowing at most 2 errors\n",
    "\n",
    "if p_at_most_2_errors < alpha:\n",
    "    print(\"Based on the lady making at most 2 errors the null hypothesis can be rejected.\")\n",
    "    \n",
    "else:\n",
    "    print(\"Based on the lady making at most 2 errors the null hypothesis cannot be rejected.\")"
   ]
  },
  {
   "cell_type": "markdown",
   "metadata": {},
   "source": [
    "\n",
    "\n",
    "### Probabilities \n",
    "1. **All 6 cups guessed correctly**\n",
    "\n",
    "      Probability $\\approx $ 0.00108 (0.108%)  \n",
    "      \n",
    "      This is highly unlikely, indicating that the person most likely has a skill.  This could be determined further by running the test multiple times.\n",
    "\n",
    "2. **At most 1 error (either 5 or 6 correct)**\n",
    "\n",
    "      Probability $\\approx $ 0.04004 (4%)  \n",
    "\n",
    "      The probability of this, although much higher than the probability of guessing all 6 correctly the liklihood is still below the generally accepted significance level of 5%.  It is still unlikely but does allow for some error by someone with genuine skill.\n",
    "\n",
    "3. **At most 2 errors (either 4, 5 or 6 correct)**\n",
    "\n",
    "      Probability $\\approx $ 0.28354 (28.354%) \n",
    "\n",
    "      This is a significant increase compared to the acceptance of 1 or no errors and is above the significance level set at 5%.  This would make it far easier for someone without any skill and simply guessing to pass the test, diminishing the tests integrity.\n",
    "\n",
    "\n",
    "\n"
   ]
  },
  {
   "cell_type": "markdown",
   "metadata": {},
   "source": [
    "## Conclusion\n",
    "\n",
    "Accepting 2 errors would make the test less rigorous, as the probability of passing increases substantially, making it much easier for someone without any skill to simply guess resulting in a false positive.  For this reason I would not accept 2 errors."
   ]
  },
  {
   "cell_type": "markdown",
   "metadata": {},
   "source": [
    "## References\n",
    "\n",
    "https://en.wikipedia.org/wiki/Lady_tasting_tea\n",
    "\n",
    "https://www.physiotutors.com/wiki/alpha-level/\n",
    "\n",
    "https://github.com/ianmcloughlin/2425_applied_statistics\n",
    "\n",
    "https://en.wikipedia.org/wiki/Statistical_significance\n",
    "\n",
    "https://www.nbi.dk/~petersen/Teaching/Stat2019/Notes/Fisher_ExactTest_LadyTastingTea.pdf\n",
    "\n",
    "https://stackoverflow.com/questions/43025450/how-can-i-type-approximate-equal-sign-in-markdown-jupyter\n",
    "\n",
    "\n"
   ]
  },
  {
   "cell_type": "markdown",
   "metadata": {},
   "source": [
    "***"
   ]
  },
  {
   "cell_type": "markdown",
   "metadata": {},
   "source": [
    "## Task 2 <a id=\"task-2\"></a>"
   ]
  },
  {
   "cell_type": "markdown",
   "metadata": {},
   "source": [
    "In this task you will assess whether `numpy.random.normal()` properly generates normal values.\n",
    "To begin, generate a sample of one hundred thousand values using the function with mean `10.0` and standard deviation `3.0`.\n",
    "\n",
    "Use the `scipy.stats.shapiro()` function to test whether your sample came from a normal distribution.\n",
    "Explain the results and output.\n",
    "\n",
    "Plot a histogram of your values and plot the corresponding normal distribution probability density function on top of it."
   ]
  },
  {
   "cell_type": "code",
   "execution_count": 47,
   "metadata": {},
   "outputs": [],
   "source": [
    "import numpy as np\n",
    "import scipy.stats as stats\n",
    "import matplotlib.pyplot as plt"
   ]
  },
  {
   "cell_type": "code",
   "execution_count": 48,
   "metadata": {},
   "outputs": [],
   "source": [
    "# Define parameters\n",
    "mean = 10.0\n",
    "std_dev = 3.0\n",
    "n = 100000"
   ]
  },
  {
   "cell_type": "markdown",
   "metadata": {},
   "source": [
    "Let's generate our sample data with 100,000 values and using the given parmeters for mean and standard deviation"
   ]
  },
  {
   "cell_type": "code",
   "execution_count": 49,
   "metadata": {},
   "outputs": [
    {
     "data": {
      "text/plain": [
       "array([ 4.61156954,  9.61838723, 11.95395299, ..., 11.88252791,\n",
       "       13.60702687,  5.16857648])"
      ]
     },
     "execution_count": 49,
     "metadata": {},
     "output_type": "execute_result"
    }
   ],
   "source": [
    "# Generate our random normal sample based on above parameters using numpy\n",
    "sample = np.random.normal(mean, std_dev, n)\n",
    "\n",
    "#Show\n",
    "sample"
   ]
  },
  {
   "cell_type": "code",
   "execution_count": 50,
   "metadata": {},
   "outputs": [
    {
     "name": "stdout",
     "output_type": "stream",
     "text": [
      "Shapiro-Wilk Test Results:\n",
      "The test statistic (W) is 0.9999816417694092\n",
      "The p-value is 0.9472954273223877\n"
     ]
    },
    {
     "name": "stderr",
     "output_type": "stream",
     "text": [
      "c:\\Users\\lgrealish\\AppData\\Local\\anaconda3\\Lib\\site-packages\\scipy\\stats\\_morestats.py:1816: UserWarning: p-value may not be accurate for N > 5000.\n",
      "  warnings.warn(\"p-value may not be accurate for N > 5000.\")\n"
     ]
    }
   ],
   "source": [
    "# Run the Shapiro test on the generated sample\n",
    "shapiro_test = stats.shapiro(sample)\n",
    "\n",
    "print(\"Shapiro-Wilk Test Results:\")\n",
    "print(f\"The test statistic (W) is {shapiro_test.statistic}\")\n",
    "print(f\"The p-value is {shapiro_test.pvalue}\")"
   ]
  },
  {
   "cell_type": "markdown",
   "metadata": {},
   "source": [
    "## Explanation the Shapiro-Wilk test\n",
    "\n",
    "The Shapiro-Wilk test tests the null hypothesis that the data was drawn from a normal distribution.  The test returns a *test statistic value (W)* and a  *p-value*.  \n",
    "\n",
    "- **Test Statistic (W)**\n",
    "  \n",
    "  This measures how well the sample data matches the properties of a normal distribution.  This is a value between 0 and 1, where values closer to 1 indicating that the sample most liekly follow the normal distribution.\n",
    "\n",
    "- **p-value (p)**\n",
    "\n",
    "  This value determines the statistical significance of the test.  \n",
    "  \n",
    "  A low value (*p* <0.05) suggests that the sample significantly deviates from a normal distribution and you can reject the null hypothesis.\n",
    "\n",
    "  A high value (*p*$\\geq $ 0.05) suggests that the sample does not significantly deviate from a normal distribution you cannot reject the null hypothesis.\n",
    "\n",
    "\n",
    "The results of the Shapiro-Wilk test for the randomly generated data *sample* we can see that the test statistic is $\\approx $ 0.99997, suggesting that the data closely matches a normal distribution.  The p-value of $\\approx $ 0.81252is much greater than the generally accepted significance level of 0.05 and therefore we can accept the null hypothesis as there is no eveidence to suggest that the data deviates from a normal distribution.\n"
   ]
  },
  {
   "cell_type": "markdown",
   "metadata": {},
   "source": [
    "We can also display the data on a histogram with normal distribution probability density function on top of it.  "
   ]
  },
  {
   "cell_type": "code",
   "execution_count": 51,
   "metadata": {},
   "outputs": [
    {
     "data": {
      "image/png": "[encoded data removed]",
      "text/plain": [
       "<Figure size 640x480 with 1 Axes>"
      ]
     },
     "metadata": {},
     "output_type": "display_data"
    }
   ],
   "source": [
    "# Plot histogram of the generated sample and overlay with the pdf\n",
    "\n",
    "plt.hist(sample, bins=100, density=True, alpha=0.6, color='skyblue', label='Sample Histogram')\n",
    "x = np.linspace(mean - 4*std_dev, mean + 4*std_dev, 100000)\n",
    "pdf = stats.norm.pdf(x, loc=mean, scale=std_dev)\n",
    "plt.plot(x, pdf, 'r', label='Normal Distribution PDF')\n",
    "\n",
    "plt.title('Histogram of Generated Sample with Normal Distribution Overlay')\n",
    "plt.xlabel('Value')\n",
    "plt.ylabel('Density')\n",
    "plt.tight_layout()\n",
    "plt.grid()\n",
    "plt.legend()\n",
    "plt.show()\n"
   ]
  },
  {
   "cell_type": "markdown",
   "metadata": {},
   "source": [
    "Another way to check if the data is normally distributed id the use of a Q-Q plot (quantile-quantile plot).  Q-Q plots are a useful tool to visually show the shape of the data compared with the shape of a probability distribution function.  It can highlight normaility as well as skewness."
   ]
  },
  {
   "cell_type": "code",
   "execution_count": 52,
   "metadata": {},
   "outputs": [
    {
     "data": {
      "image/png": "[encoded data removed]",
      "text/plain": [
       "<Figure size 640x480 with 1 Axes>"
      ]
     },
     "metadata": {},
     "output_type": "display_data"
    }
   ],
   "source": [
    "# Create a probability plot for generated sample\n",
    "\n",
    "fig, ax = plt.subplots()\n",
    "\n",
    "stats.probplot(sample, dist='norm', plot = ax);\n",
    "\n",
    "plt.grid()\n"
   ]
  },
  {
   "cell_type": "markdown",
   "metadata": {},
   "source": [
    "The Q-Q plot shows the data very closely follows the normal distribution."
   ]
  },
  {
   "cell_type": "markdown",
   "metadata": {},
   "source": [
    "## Conclusion\n",
    "\n",
    "Based on the results of the Shaprio-Wilk test as well as the histograms and Q-Q plot, there is no evidence that the randomly generated sample is not normally distributed."
   ]
  },
  {
   "cell_type": "markdown",
   "metadata": {},
   "source": [
    "## References\n",
    "\n",
    "https://numpy.org/doc/stable/reference/random/generated/numpy.random.normal.html\n",
    "\n",
    "https://statistics.laerd.com/spss-tutorials/testing-for-normality-using-spss-statistics.php#:~:text=If%20the%20Sig.,deviate%20from%20a%20normal%20distribution.\n",
    "\n",
    "https://docs.scipy.org/doc/scipy/reference/generated/scipy.stats.shapiro.html\n",
    "\n",
    "https://en.wikipedia.org/wiki/Shapiro%E2%80%93Wilk_test\n",
    "\n",
    "https://www.kaggle.com/discussions/general/432129\n",
    "\n",
    "https://builtin.com/data-science/shapiro-wilk-test\n",
    "\n",
    "https://www.statsmodels.org/stable/generated/statsmodels.graphics.gofplots.qqplot.html\n",
    "\n"
   ]
  },
  {
   "cell_type": "markdown",
   "metadata": {},
   "source": [
    "***"
   ]
  },
  {
   "cell_type": "markdown",
   "metadata": {},
   "source": [
    "## Task 3 <a id=\"task-3\"></a>"
   ]
  },
  {
   "cell_type": "markdown",
   "metadata": {},
   "source": [
    "Consider the following dataset containing resting heart rates for patients before and after embarking on a two-week exercise program.\n",
    "\n",
    "| Patient ID |  0 |  1 |  2 |  3 |  4 |  5 |  6 |  7 |  8 |  9 |\n",
    "|:-----------|---:|---:|---:|---:|---:|---:|---:|---:|---:|---:|\n",
    "| Before     | 63 | 68 | 70 | 64 | 74 | 67 | 70 | 57 | 66 | 65 |\n",
    "| After      | 64 | 64 | 68 | 64 | 73 | 70 | 72 | 54 | 61 | 63 |\n",
    "\n",
    "Calculate the t-statistic based on this data set, using Python.\n",
    "Compare it to the value given by `scipy.stats`.\n",
    "Explain your work and list any sources used."
   ]
  },
  {
   "cell_type": "code",
   "execution_count": 53,
   "metadata": {},
   "outputs": [],
   "source": [
    "import numpy as np\n",
    "import pandas as pd\n",
    "import scipy.stats as stats\n",
    "import seaborn as sns\n",
    "import matplotlib.pyplot as plt\n"
   ]
  },
  {
   "cell_type": "markdown",
   "metadata": {},
   "source": [
    "Formula for Paired T-Test\n",
    "The t-statistic for a paired test is calculated as:\n",
    "\n",
    "$$t = \\frac{\\bar{d}}{s_d / \\sqrt{n}} $$\n",
    "\n",
    "where:\n",
    "\n",
    "\\begin{align*}\n",
    "\\bar{d} & = \\text{mean of the differences between paired samples} \\\\\n",
    "s_d & = \\text{standard deviation of the differences} \\\\\n",
    "n & = \\text{number of pairs}\n",
    "\\end{align*}\n"
   ]
  },
  {
   "cell_type": "code",
   "execution_count": 54,
   "metadata": {},
   "outputs": [],
   "source": [
    "# Create a pandas dataframe to store the data\n",
    "data = {'patient_id': [ 0, 1, 2, 3, 4, 5, 6, 7, 8, 9], 'before':[ 63, 68, 70, 64, 74, 67, 70, 57, 66, 65],\n",
    "        'after': [64, 64, 68, 64, 73, 70, 72, 54, 61, 63]}\n",
    "\n",
    "df = pd.DataFrame(data)"
   ]
  },
  {
   "cell_type": "code",
   "execution_count": 55,
   "metadata": {},
   "outputs": [
    {
     "data": {
      "image/png": "[encoded data removed]",
      "text/plain": [
       "<Figure size 640x480 with 1 Axes>"
      ]
     },
     "metadata": {},
     "output_type": "display_data"
    }
   ],
   "source": [
    "# Show the before and after arrays on a strip plot\n",
    "sns.stripplot([df.before, df.after])\n",
    "\n",
    "plt.ylabel(\"Measurements (bpm)\")\n",
    "plt.xticks([0, 1], [\"Before\", \"After\"])\n",
    "plt.title(\"Resting Heart Rate\")\n",
    "plt.grid()"
   ]
  },
  {
   "cell_type": "code",
   "execution_count": 56,
   "metadata": {},
   "outputs": [
    {
     "data": {
      "image/png": "[encoded data removed]",
      "text/plain": [
       "<Figure size 640x480 with 1 Axes>"
      ]
     },
     "metadata": {},
     "output_type": "display_data"
    }
   ],
   "source": [
    "# Show the before and after arrays on a boxplot\n",
    "sns.boxplot([df.before, df.after])\n",
    "\n",
    "plt.ylabel(\"Measurements (bpm)\")\n",
    "plt.xticks([0, 1], [\"Before\", \"After\"])\n",
    "plt.title(\"Resting Heart Rate\")\n",
    "plt.grid()"
   ]
  },
  {
   "cell_type": "code",
   "execution_count": 57,
   "metadata": {},
   "outputs": [
    {
     "name": "stdout",
     "output_type": "stream",
     "text": [
      "t-statistic from manual calculation is: 1.337227\n"
     ]
    }
   ],
   "source": [
    "# Calculate the differences\n",
    "differences = df.before - df.after\n",
    "\n",
    "# Calculate the mean and standard deviation of the differences\n",
    "mean_diff = np.mean(differences)\n",
    "std_diff = np.std(differences, ddof=1)  # ddof=1 for sample standard deviation\n",
    "\n",
    "# Calculate the standard error of the mean (sem)\n",
    "n = len(differences)  \n",
    "sem_diff = std_diff / np.sqrt(n)\n",
    "\n",
    "# Calculate the t-statistic\n",
    "t_stat = mean_diff / sem_diff\n",
    "\n",
    "print(f\"t-statistic from manual calculation is: {t_stat:.6f}\")\n"
   ]
  },
  {
   "cell_type": "code",
   "execution_count": 58,
   "metadata": {},
   "outputs": [
    {
     "name": "stdout",
     "output_type": "stream",
     "text": [
      "t-statistic from scipy.stats calculation is: 1.337227\n",
      "\n",
      "p-value from scipy.stats calculation is: 0.213960\n"
     ]
    }
   ],
   "source": [
    "# Perform a related t-test using scipy.stats\n",
    "t_scipy, t_pval = stats.ttest_rel(df.before, df.after)\n",
    "\n",
    "print (f\"t-statistic from scipy.stats calculation is: {t_scipy:.6f}\\n\\np-value from scipy.stats calculation is: {t_pval:.6f}\")"
   ]
  },
  {
   "cell_type": "code",
   "execution_count": 59,
   "metadata": {},
   "outputs": [
    {
     "name": "stdout",
     "output_type": "stream",
     "text": [
      "The manually calculated t-stat matches the t-stat from scipy.stats.\n"
     ]
    }
   ],
   "source": [
    "if round(t_stat, 4) == round(t_stat, 4):\n",
    "    print('The manually calculated t-stat matches the t-stat from scipy.stats.')\n",
    "else:\n",
    "    print('The manually calculated t-stat does not match the t-stat from scipy.stats.')"
   ]
  },
  {
   "cell_type": "markdown",
   "metadata": {},
   "source": [
    "## Conclusion\n",
    "\n",
    "Comparing the t-statistics from the manual calculation and the scipy.stats calculation we can see that the results are identical.\n",
    "\n",
    "Assuming a typical significance level of 0.05, the t-statistic of 1.337227 and the p-value of 0.213960 indicate that the difference in resting heart rates before and after the two-week exercise program is not statistically significant."
   ]
  },
  {
   "cell_type": "markdown",
   "metadata": {},
   "source": [
    "## References\n",
    "\n",
    "https://machinelearningmastery.com/how-to-code-the-students-t-test-from-scratch-in-python/\n",
    "\n",
    "https://www.geeksforgeeks.org/scipy-stats-sem-function-python/\n",
    "\n",
    "https://www.statisticssolutions.com/free-resources/directory-of-statistical-analyses/paired-sample-t-test/\n",
    "\n",
    "https://www.khanacademy.org/math/statistics-probability/summarizing-quantitative-data/box-whisker-plots/a/box-plot-review\n",
    "\n",
    "https://www.datacamp.com/tutorial/an-introduction-to-python-t-tests?dc_referrer=https%3A%2F%2Fwww.google.com%2F\n"
   ]
  },
  {
   "cell_type": "markdown",
   "metadata": {},
   "source": [
    "***"
   ]
  },
  {
   "cell_type": "markdown",
   "metadata": {},
   "source": [
    "<a id=\"task-4\"></a>\n",
    "## Task 4"
   ]
  },
  {
   "cell_type": "markdown",
   "metadata": {},
   "source": [
    "In this test we will estimate the probability of committing a type II error in specific circumstances.\n",
    "To begin, create a variable called `no_type_ii` and set it to `0`.\n",
    "\n",
    "Now use a loop to perform the following test 10,000 times.\n",
    "\n",
    "1. Use `numpy.random.normal` to generate three samples with 100 values each. Give each a standard deviation of `0.1`. Give the first sample a mean of `4.9`, the second a mean of `5.0`, and the third a mean of `5.1`. \n",
    "\n",
    "2. Perform one-way anova on the three samples and add `1` to `no_type_ii` whenever a type II error occurs.\n",
    "\n",
    "Summarize and explain your results."
   ]
  },
  {
   "cell_type": "code",
   "execution_count": 60,
   "metadata": {},
   "outputs": [],
   "source": [
    "import numpy as np\n",
    "import scipy.stats as stats"
   ]
  },
  {
   "cell_type": "markdown",
   "metadata": {},
   "source": [
    "## ANOVA\n",
    "\n",
    "An analysis of variance (ANOVA) is used to determine whether there are statistically significant dfferences between more than two samples, in particular the means and variances of the samples are compared with each other.\n",
    "\n",
    "In statistics, hypothesis testing involves making decisions based on probabilities, which means errors can sometimes occur. A ***Type I error*** happens when we mistakenly reject the null hypothesis, even though it is true and no real difference exists. On the other hand, a ***Type II error*** occurs when we fail to reject the null hypothesis, even though it is false and a real difference does exist.\n"
   ]
  },
  {
   "cell_type": "code",
   "execution_count": 61,
   "metadata": {},
   "outputs": [],
   "source": [
    "# Create variable no_type_ii\n",
    "no_type_ii = 0\n",
    "\n",
    "# Set alpha value\n",
    "alpha = .05\n",
    "\n",
    "# Define number of iterations of test performance\n",
    "num_iterations = 10000"
   ]
  },
  {
   "cell_type": "code",
   "execution_count": 62,
   "metadata": {},
   "outputs": [
    {
     "name": "stdout",
     "output_type": "stream",
     "text": [
      "Number of Type II errors: 0\n",
      "\n",
      "ANOVA results:\n",
      "f-statistic: 66.8321\n",
      "p-value: 0.0000\n"
     ]
    }
   ],
   "source": [
    "# For loop for performing the test\n",
    "for i in range(num_iterations):\n",
    "  sample_one = np.random.normal(loc=4.9, scale=0.1, size=100)\n",
    "  sample_two = np.random.normal(loc=5.0, scale=0.1, size=100)\n",
    "  sample_three = np.random.normal(loc=5.1, scale=0.1, size=100)\n",
    "\n",
    "  f_stat, p_val = stats.f_oneway(sample_one, sample_two, sample_three)\n",
    "\n",
    "  if p_val > alpha:\n",
    "    no_type_ii += 1\n",
    "\n",
    "\n",
    "print(f\"Number of Type II errors: {no_type_ii}\\n\\nANOVA results:\\nf-statistic: {f_stat:.4f}\\np-value: {p_val:.4f}\")\n"
   ]
  },
  {
   "cell_type": "markdown",
   "metadata": {},
   "source": [
    "Given that the number of Type II errors are zero we can conclude that the test correctly rejected the null hypothesis every time that it should have.\n",
    "\n",
    "The hight f-statistic value suggests that the differences between group means are large relative to the variability within the groups, indicating that there is a real difference between the group means.\n",
    "\n",
    "The low p-value of 0.0000 means that the null hypothesis can be rejected and there is a difference between the means of the sample groups.\n",
    "\n",
    "A larger sample size generally increases the power of an ANOVA test, improving the likelihood of correctly rejecting a false null hypothesis. With more data, true differences between group means are easier to detect if they exist. Conversely, a smaller sample size increases the likelihood of a Type II error.\n",
    "\n",
    "As a way of seeing if this is in fact the case, I will run the test again with a smaller sample size of 20.\n"
   ]
  },
  {
   "cell_type": "code",
   "execution_count": 63,
   "metadata": {},
   "outputs": [
    {
     "name": "stdout",
     "output_type": "stream",
     "text": [
      "Number of Type II errors: 1\n",
      "\n",
      "ANOVA results:\n",
      "f-statistic: 12.7520\n",
      "p-value: 0.0000\n"
     ]
    }
   ],
   "source": [
    "# For loop for performing the test\n",
    "for i in range(num_iterations):\n",
    "  sample_one = np.random.normal(loc=4.9, scale=0.1, size=20)\n",
    "  sample_two = np.random.normal(loc=5.0, scale=0.1, size=20)\n",
    "  sample_three = np.random.normal(loc=5.1, scale=0.1, size=20)\n",
    "\n",
    "  f_stat, p_val = stats.f_oneway(sample_one, sample_two, sample_three)\n",
    "\n",
    "  if p_val > alpha:\n",
    "    no_type_ii += 1\n",
    "\n",
    "\n",
    "print(f\"Number of Type II errors: {no_type_ii}\\n\\nANOVA results:\\nf-statistic: {f_stat:.4f}\\np-value: {p_val:.4f}\")"
   ]
  },
  {
   "cell_type": "code",
   "execution_count": 64,
   "metadata": {},
   "outputs": [
    {
     "name": "stdout",
     "output_type": "stream",
     "text": [
      "Number of Type II errors: 20\n",
      "\n",
      "ANOVA results:\n",
      "f-statistic: 10.6882\n",
      "p-value: 0.0002\n"
     ]
    }
   ],
   "source": [
    "# For loop for performing the test\n",
    "for i in range(num_iterations):\n",
    "  sample_one = np.random.normal(loc=4.9, scale=0.1, size=15)\n",
    "  sample_two = np.random.normal(loc=5.0, scale=0.1, size=15)\n",
    "  sample_three = np.random.normal(loc=5.1, scale=0.1, size=15)\n",
    "\n",
    "  f_stat, p_val = stats.f_oneway(sample_one, sample_two, sample_three)\n",
    "\n",
    "  if p_val > alpha:\n",
    "    no_type_ii += 1\n",
    "\n",
    "\n",
    "print(f\"Number of Type II errors: {no_type_ii}\\n\\nANOVA results:\\nf-statistic: {f_stat:.4f}\\np-value: {p_val:.4f}\")"
   ]
  },
  {
   "cell_type": "markdown",
   "metadata": {},
   "source": [
    "## Conclusion\n",
    "For the initial sample size of 100 we can see that there are no Type II errors, which indicates that the test has a high statistical power.  This is most likely due to the following;\n",
    "\n",
    "- sample size - relatively large sample sizes decreaseses variability and increases the detection of differnces between the sample groups.\n",
    "- different means making it easier for the test to identify differences across the sample groups.\n",
    "- the small standard deviation of 0.1 within the samples minimises the variability within the sample groups.\n",
    "\n",
    "When the test is run with smaller sample sized we can see clearly that the number of Type II errors increase, highlighting the importance of considering data characteristics such as sample size and variability before conducting analysis."
   ]
  },
  {
   "cell_type": "markdown",
   "metadata": {},
   "source": [
    "## References\n",
    "\n",
    "https://en.wikipedia.org/wiki/Type_I_and_type_II_errors\n",
    "\n",
    "https://github.com/ianmcloughlin/2425_applied_statistics/blob/main/05_anova.ipynb\n",
    "\n",
    "https://datatab.net/tutorial/hypothesis-testing\n",
    "\n",
    "https://www.geeksforgeeks.org/how-to-perform-a-one-way-anova-in-python/\n",
    "\n",
    "https://www.scribbr.com/statistics/type-i-and-type-ii-errors/#:~:text=A%20Type%20II%20error%20means,to%20reject%20the%20null%20hypothesis\n",
    "\n",
    "https://stats.stackexchange.com/questions/189556/how-to-calculate-the-probability-of-making-a-type-2-error\n",
    "\n",
    "https://www.graphpad.com/guides/prism/latest/statistics/f_ratio_and_anova_table_(one-way_anova).htm"
   ]
  }
 ],
 "metadata": {
  "kernelspec": {
   "display_name": "base",
   "language": "python",
   "name": "python3"
  },
  "language_info": {
   "codemirror_mode": {
    "name": "ipython",
    "version": 3
   },
   "file_extension": ".py",
   "mimetype": "text/x-python",
   "name": "python",
   "nbconvert_exporter": "python",
   "pygments_lexer": "ipython3",
   "version": "3.11.4"
  }
 },
 "nbformat": 4,
 "nbformat_minor": 2
}
