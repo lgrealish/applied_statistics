{
 "cells": [
  {
   "cell_type": "markdown",
   "metadata": {},
   "source": [
    "# Applied Statistics Tasks\n",
    "\n",
    "**Linda Grealish**\n",
    "\n",
    "***"
   ]
  },
  {
   "cell_type": "markdown",
   "metadata": {},
   "source": [
    "## Table of contents\n",
    " * [Task 1](#task-1)\n",
    " * [Task 2](#task-2)\n",
    " * [Task 3](#task-3)\n",
    " * [Task 4](#task-4)\n"
   ]
  },
  {
   "cell_type": "markdown",
   "metadata": {},
   "source": [
    "<a id=\"task-1\"></a>\n",
    "## Task 1"
   ]
  },
  {
   "cell_type": "markdown",
   "metadata": {},
   "source": [
    "Suppose we alter the Lady Tasting Tea experiment to involve twelve cups of tea.\n",
    "Six have the milk in first and the other six having tea in first.\n",
    "A person claims they have the special power of being able to tell whether the tea or the milk went into a cup first upon tasting it.\n",
    "You agree to accept their claim if they can tell which of the six cups in your experiment had the milk in first.\n",
    "\n",
    "Calculate, using Python, the probability that they select the correct six cups.\n",
    "Here you should assume that they have no special powers in figuring it out, that they are just guessing.\n",
    "Remember to show and justify your workings in code and MarkDown cells.\n",
    "\n",
    "Suppose, now, you are willing to accept one error.\n",
    "Once they select the six cups they think had the milk in first, you will give them the benefit of the doubt should they have selected at least five of the correct cups.\n",
    "Calculate the probability, assuming they have no special powers, that the person makes at most one error.\n",
    "\n",
    "Would you accept two errors? Explain."
   ]
  },
  {
   "cell_type": "code",
   "execution_count": null,
   "metadata": {},
   "outputs": [],
   "source": [
    "import math"
   ]
  },
  {
   "cell_type": "code",
   "execution_count": null,
   "metadata": {},
   "outputs": [],
   "source": [
    "# Number of cups in total\n",
    "no_cups = 12\n",
    "\n",
    "# Number of cups of tea with milk in first.\n",
    "no_cups_milk_first = 6\n",
    "\n",
    "# Number of cups of tea with tea in first.\n",
    "no_cups_tea_first = 6\n"
   ]
  },
  {
   "cell_type": "code",
   "execution_count": null,
   "metadata": {},
   "outputs": [],
   "source": [
    "# Number of ways of selecting four cups from eight.\n",
    "ways = math.comb(no_cups, no_cups_milk_first)\n",
    "\n",
    "# Show.\n",
    "ways"
   ]
  },
  {
   "cell_type": "code",
   "execution_count": null,
   "metadata": {},
   "outputs": [],
   "source": [
    "# Define function to calculate number of possible combinations\n",
    "def number_combinations(n, k):\n",
    "  return math.comb(n, k)\n"
   ]
  },
  {
   "cell_type": "code",
   "execution_count": null,
   "metadata": {},
   "outputs": [],
   "source": [
    "# Calculate total number of combinations possible\n",
    "total_ways = number_combinations(12, 6)\n",
    "total_ways\n",
    "print(f'The total number of combinations is {total_ways}')"
   ]
  },
  {
   "cell_type": "code",
   "execution_count": null,
   "metadata": {},
   "outputs": [],
   "source": [
    "# Calculate the probability of guessing correctly\n",
    "p_correct_selection = 1 / total_ways\n",
    "p_correct_selection"
   ]
  },
  {
   "cell_type": "code",
   "execution_count": null,
   "metadata": {},
   "outputs": [],
   "source": [
    "# Output the result\n",
    "print(f\"Total number of ways to select 6 cups from 12: {total_ways}\")\n",
    "print(f\"Probability of selecting the correct 6 cups: {p_correct_selection:.10f}\")"
   ]
  },
  {
   "cell_type": "code",
   "execution_count": null,
   "metadata": {},
   "outputs": [],
   "source": [
    "# Probability of selecting exactly 6 correct cups (no errors)\n",
    "p_exact_6_correct = 1 / total_ways\n",
    "\n",
    "# Probability of selecting exactly 5 correct cups (1 error)\n",
    "# Choose 5 correct from 6, and 1 incorrect from 6\n",
    "ways_to_choose_5_correct = number_combinations(6, 5)\n",
    "ways_to_choose_1_incorrect = number_combinations(6, 1)\n",
    "p_exact_5_correct = (ways_to_choose_5_correct * ways_to_choose_1_incorrect) / total_ways\n",
    "\n",
    "# Total probability of making at most 1 error\n",
    "p_at_most_1_error = p_exact_6_correct + p_exact_5_correct\n"
   ]
  },
  {
   "cell_type": "code",
   "execution_count": null,
   "metadata": {},
   "outputs": [],
   "source": [
    "# Output the result\n",
    "print(f\"Probability of selecting exactly 6 correct cups (no errors): {p_exact_6_correct:.10f}\")\n",
    "print(f\"Probability of selecting exactly 5 correct cups (1 error): {p_exact_5_correct:.10f}\")\n",
    "print(f\"Total probability of making at most 1 error (0 or 1 error): {p_at_most_1_error:.10f}\")"
   ]
  },
  {
   "cell_type": "code",
   "execution_count": null,
   "metadata": {},
   "outputs": [],
   "source": [
    "# Probability of selecting exactly 6 correct cups (no errors)\n",
    "p_exact_6_correct = 1 / total_ways\n",
    "\n",
    "# Probability of selecting exactly 4 correct cups (2 error)\n",
    "# Choose 4 correct from 6, and 2 incorrect from 6\n",
    "ways_to_choose_4_correct = number_combinations(6, 4)\n",
    "ways_to_choose_2_incorrect = number_combinations(6, 2)\n",
    "p_exact_4_correct = (ways_to_choose_4_correct * ways_to_choose_2_incorrect) / total_ways\n",
    "\n",
    "# Total probability of making at most 2 error\n",
    "p_at_most_2_errors = p_exact_6_correct + p_exact_5_correct + p_exact_4_correct"
   ]
  },
  {
   "cell_type": "code",
   "execution_count": null,
   "metadata": {},
   "outputs": [],
   "source": [
    "# Output the result\n",
    "print(f\"Probability of selecting exactly 6 correct cups (no errors): {p_exact_6_correct:.10f}\")\n",
    "print(f\"Probability of selecting exactly 5 correct cups (1 error): {p_exact_5_correct:.10f}\")\n",
    "print(f\"Probability of selecting exactly 4 correct cups (2 errors): {p_exact_4_correct:.10f}\")\n",
    "print(f\"Total probability of making at most 2 errors (0, 1 or 2 errors): {p_at_most_2_errors:.10f}\")"
   ]
  },
  {
   "cell_type": "code",
   "execution_count": null,
   "metadata": {},
   "outputs": [],
   "source": [
    "# Assuming a significance level of 0.05 for evaluating the null\n",
    "alpha = 0.05"
   ]
  },
  {
   "cell_type": "code",
   "execution_count": null,
   "metadata": {},
   "outputs": [],
   "source": [
    "# Testing the null hypothesis based on allowing at most 1 error\n",
    "\n",
    "if p_at_most_1_error < alpha:\n",
    "    print(\"Based on the lady making at most 1 error, the null hypothesis can be rejected.\")\n",
    "else:\n",
    "    print(\"Based on the lady making at most 1 error, the null hypothesis cannot be rejected.\")"
   ]
  },
  {
   "cell_type": "code",
   "execution_count": null,
   "metadata": {},
   "outputs": [],
   "source": [
    "# Testing the null hypothesis based on allowing at most 2 errors\n",
    "\n",
    "if p_at_most_2_errors < alpha:\n",
    "    print(\"Based on the lady making at most 2 errors the null hypothesis can be rejected.\")\n",
    "    \n",
    "else:\n",
    "    print(\"Based on the lady making at most 2 errors the null hypothesis cannot be rejected.\")"
   ]
  },
  {
   "cell_type": "markdown",
   "metadata": {},
   "source": [
    "\n",
    "\n",
    "### Probabilities \n",
    "1. **All 6 cups guessed correctly**\n",
    "\n",
    "      Probability $\\approx $ 0.00108 (0.108%)  \n",
    "      \n",
    "      This is highly unlikely, indicating that the person most likely has a skill.  This could be determined further by running the test multiple times.\n",
    "\n",
    "2. **At most 1 error (either 5 or 6 correct)**\n",
    "\n",
    "      Probability $\\approx $ 0.04004 (4%)  \n",
    "\n",
    "      The probability of this, although much higher than the probability of guessing all 6 correctly the liklihood is still below the generally accepted significance level of 5%.  It is still unlikely but does allow for some error by someone with genuine skill.\n",
    "\n",
    "3. **At most 2 errors (either 4, 5 or 6 correct)**\n",
    "\n",
    "      Probability $\\approx $ 0.28354 (28.354%) \n",
    "\n",
    "      This is a significant increase compared to the acceptance of 1 or no errors and is above the significance level set at 5%.  This would make it far easier for someone without any skill and simply guessing to pass the test, diminishing the tests integrity.\n",
    "\n",
    "\n",
    "\n"
   ]
  },
  {
   "cell_type": "markdown",
   "metadata": {},
   "source": [
    "## Conclusion\n",
    "\n",
    "Accepting 2 errors would make the test less rigorous, as the probability of passing increases substantially, making it much easier for someone without any skill to simply guess resulting in a false positive.  For this reason I would not accept 2 errors."
   ]
  },
  {
   "cell_type": "markdown",
   "metadata": {},
   "source": [
    "## References\n",
    "\n",
    "https://en.wikipedia.org/wiki/Lady_tasting_tea\n",
    "\n",
    "https://www.physiotutors.com/wiki/alpha-level/\n",
    "\n",
    "https://github.com/ianmcloughlin/2425_applied_statistics\n",
    "\n",
    "https://en.wikipedia.org/wiki/Statistical_significance\n",
    "\n",
    "https://www.nbi.dk/~petersen/Teaching/Stat2019/Notes/Fisher_ExactTest_LadyTastingTea.pdf\n",
    "\n",
    "https://stackoverflow.com/questions/43025450/how-can-i-type-approximate-equal-sign-in-markdown-jupyter\n",
    "\n",
    "\n"
   ]
  },
  {
   "cell_type": "markdown",
   "metadata": {},
   "source": [
    "<a id=\"task-2\"></a>\n",
    "## Task 2"
   ]
  },
  {
   "cell_type": "markdown",
   "metadata": {},
   "source": [
    "In this task you will assess whether `numpy.random.normal()` properly generates normal values.\n",
    "To begin, generate a sample of one hundred thousand values using the function with mean `10.0` and standard deviation `3.0`.\n",
    "\n",
    "Use the `scipy.stats.shapiro()` function to test whether your sample came from a normal distribution.\n",
    "Explain the results and output.\n",
    "\n",
    "Plot a histogram of your values and plot the corresponding normal distribution probability density function on top of it."
   ]
  },
  {
   "cell_type": "code",
   "execution_count": null,
   "metadata": {},
   "outputs": [],
   "source": [
    "import numpy as np\n",
    "import scipy.stats as stats\n",
    "import matplotlib.pyplot as plt"
   ]
  },
  {
   "cell_type": "code",
   "execution_count": null,
   "metadata": {},
   "outputs": [],
   "source": [
    "# Define parameters\n",
    "mean = 10.0\n",
    "std_dev = 3.0\n",
    "n = 100000"
   ]
  },
  {
   "cell_type": "code",
   "execution_count": null,
   "metadata": {},
   "outputs": [],
   "source": [
    "# Generate our random normal sample based on above parameters\n",
    "sample = np.random.normal(mean, std_dev, n)\n",
    "\n",
    "#Show\n",
    "sample"
   ]
  },
  {
   "cell_type": "markdown",
   "metadata": {},
   "source": [
    "The Shapiro-Wilk test tests the null hypothesis that the data was drawn from a normal distribution."
   ]
  },
  {
   "cell_type": "code",
   "execution_count": null,
   "metadata": {},
   "outputs": [],
   "source": [
    "# Run the Shapiro test on the generated sample\n",
    "shapiro_test = stats.shapiro(sample)\n",
    "\n",
    "print(\"Shapiro-Wilk Test Results:\")\n",
    "print(f\"Statistic: {shapiro_test.statistic}\")\n",
    "print(f\"p-value: {shapiro_test.pvalue}\")"
   ]
  },
  {
   "cell_type": "code",
   "execution_count": null,
   "metadata": {},
   "outputs": [],
   "source": [
    "# Plot histogram of the generated sample\n",
    "# fig, ax = plt.subplots()\n",
    "\n",
    "plt.hist(sample, bins=100, density=True, alpha=0.6, color='b', label='Sample Histogram')\n",
    "x = np.linspace(mean - 5*std_dev, mean + 5*std_dev, 100000)\n",
    "#x = np.linspace(-10,30, 100000)\n",
    "pdf = stats.norm.pdf(x, loc=mean, scale=std_dev)\n",
    "plt.plot(x, pdf, 'r', label='Normal Distribution PDF')\n"
   ]
  },
  {
   "cell_type": "code",
   "execution_count": null,
   "metadata": {},
   "outputs": [],
   "source": [
    "# Create a probability plot for generated sample\n",
    "\n",
    "fig, ax = plt.subplots()\n",
    "\n",
    "stats.probplot(sample, dist='norm', plot = ax);\n"
   ]
  },
  {
   "cell_type": "markdown",
   "metadata": {},
   "source": [
    "## References\n",
    "\n",
    "https://numpy.org/doc/stable/reference/random/generated/numpy.random.normal.html\n",
    "\n",
    "https://statistics.laerd.com/spss-tutorials/testing-for-normality-using-spss-statistics.php#:~:text=If%20the%20Sig.,deviate%20from%20a%20normal%20distribution.\n",
    "\n",
    "https://docs.scipy.org/doc/scipy/reference/generated/scipy.stats.shapiro.html\n",
    "\n",
    "https://en.wikipedia.org/wiki/Shapiro%E2%80%93Wilk_test\n",
    "\n",
    "https://www.kaggle.com/discussions/general/432129\n",
    "\n"
   ]
  },
  {
   "cell_type": "markdown",
   "metadata": {},
   "source": [
    "<a id=\"task-3\"></a>\n",
    "## Task 3"
   ]
  },
  {
   "cell_type": "markdown",
   "metadata": {},
   "source": [
    "Consider the following dataset containing resting heart rates for patients before and after embarking on a two-week exercise program.\n",
    "\n",
    "| Patient ID |  0 |  1 |  2 |  3 |  4 |  5 |  6 |  7 |  8 |  9 |\n",
    "|:-----------|---:|---:|---:|---:|---:|---:|---:|---:|---:|---:|\n",
    "| Before     | 63 | 68 | 70 | 64 | 74 | 67 | 70 | 57 | 66 | 65 |\n",
    "| After      | 64 | 64 | 68 | 64 | 73 | 70 | 72 | 54 | 61 | 63 |\n",
    "\n",
    "Calculate the t-statistic based on this data set, using Python.\n",
    "Compare it to the value given by `scipy.stats`.\n",
    "Explain your work and list any sources used."
   ]
  },
  {
   "cell_type": "code",
   "execution_count": null,
   "metadata": {},
   "outputs": [],
   "source": [
    "import numpy as np\n",
    "import pandas as pd\n",
    "import scipy.stats as stats\n",
    "import seaborn as sns\n"
   ]
  },
  {
   "cell_type": "markdown",
   "metadata": {},
   "source": [
    "Formula for Paired T-Test\n",
    "The t-statistic for a paired test is calculated as:\n",
    "\n",
    "$$t = \\frac{\\bar{d}}{s_d / \\sqrt{n}} $$\n",
    "\n",
    "where:\n",
    "\n",
    "\\begin{align*}\n",
    "\\bar{d} & = \\text{mean of the differences between paired samples} \\\\\n",
    "s_d & = \\text{standard deviation of the differences} \\\\\n",
    "n & = \\text{number of pairs}\n",
    "\\end{align*}\n"
   ]
  },
  {
   "cell_type": "code",
   "execution_count": null,
   "metadata": {},
   "outputs": [],
   "source": [
    "# Create a pandas dataframe\n",
    "data = {'patient_id': [ 0, 1, 2, 3, 4, 5, 6, 7, 8, 9], 'before':[ 63, 68, 70, 64, 74, 67, 70, 57, 66, 65],\n",
    "        'after': [64, 64, 68, 64, 73, 70, 72, 54, 61, 63]}\n",
    "\n",
    "df = pd.DataFrame(data)"
   ]
  },
  {
   "cell_type": "code",
   "execution_count": null,
   "metadata": {},
   "outputs": [],
   "source": [
    "# Show the before and after arrays on a strip plot\n",
    "#sns.stripplot([before, after])\n",
    "sns.stripplot([df.before, df.after])"
   ]
  },
  {
   "cell_type": "code",
   "execution_count": null,
   "metadata": {},
   "outputs": [],
   "source": [
    "# Show the before and after arrays on a boxplot\n",
    "sns.boxplot([df.before, df.after])"
   ]
  },
  {
   "cell_type": "code",
   "execution_count": null,
   "metadata": {},
   "outputs": [],
   "source": [
    "# Perform paired t-test to calculate the t-statistic and p-value using scipy.stats\n",
    "\n",
    "stats.ttest_ind(df.before, df.after)"
   ]
  },
  {
   "cell_type": "code",
   "execution_count": null,
   "metadata": {},
   "outputs": [],
   "source": [
    "# Calculate the mean value of each array\n",
    "mean1, mean2 = np.mean(df.before), np.mean(df.after)\n",
    "\n",
    "print(mean1)\n",
    "\n",
    "print(mean2)\n"
   ]
  },
  {
   "cell_type": "code",
   "execution_count": null,
   "metadata": {},
   "outputs": [],
   "source": [
    "# Calculate the standard deviation of each array\n",
    "std1, std2 = np.std(df.before, ddof=1), np.std(df.after, ddof=1)"
   ]
  },
  {
   "cell_type": "code",
   "execution_count": null,
   "metadata": {},
   "outputs": [],
   "source": [
    "# Calculate the standard error of the mean for each array\n",
    "se1, se2 = stats.sem(df.before), stats.sem(df.after)"
   ]
  },
  {
   "cell_type": "code",
   "execution_count": null,
   "metadata": {},
   "outputs": [],
   "source": [
    "# Calculate the standard error difference between the samples\n",
    "sed = np.sqrt(se1**2.0 + se2**2.0)"
   ]
  },
  {
   "cell_type": "code",
   "execution_count": null,
   "metadata": {},
   "outputs": [],
   "source": [
    "# Calculate the t statistic\n",
    "t_stat = (mean1 - mean2) / sed\n",
    "\n",
    "t_stat"
   ]
  },
  {
   "cell_type": "code",
   "execution_count": null,
   "metadata": {},
   "outputs": [],
   "source": [
    "# Run an independant samples t-test on both arrays\n",
    "stats.ttest_ind(df.before, df.after)"
   ]
  },
  {
   "cell_type": "code",
   "execution_count": null,
   "metadata": {},
   "outputs": [],
   "source": [
    "# Run a paired t-test on both arrays\n",
    "stats.ttest_rel(df.before, df.after)"
   ]
  },
  {
   "cell_type": "code",
   "execution_count": null,
   "metadata": {},
   "outputs": [],
   "source": []
  },
  {
   "cell_type": "code",
   "execution_count": null,
   "metadata": {},
   "outputs": [],
   "source": []
  },
  {
   "cell_type": "markdown",
   "metadata": {},
   "source": [
    "## References\n",
    "\n",
    "https://machinelearningmastery.com/how-to-code-the-students-t-test-from-scratch-in-python/\n",
    "\n",
    "https://www.geeksforgeeks.org/scipy-stats-sem-function-python/\n",
    "\n",
    "https://www.statisticssolutions.com/free-resources/directory-of-statistical-analyses/paired-sample-t-test/\n",
    "\n",
    "https://www.khanacademy.org/math/statistics-probability/summarizing-quantitative-data/box-whisker-plots/a/box-plot-review\n"
   ]
  },
  {
   "cell_type": "markdown",
   "metadata": {},
   "source": [
    "<a id=\"task-4\"></a>\n",
    "## Task 4"
   ]
  },
  {
   "cell_type": "markdown",
   "metadata": {},
   "source": [
    "In this test we will estimate the probability of committing a type II error in specific circumstances.\n",
    "To begin, create a variable called `no_type_ii` and set it to `0`.\n",
    "\n",
    "Now use a loop to perform the following test 10,000 times.\n",
    "\n",
    "1. Use `numpy.random.normal` to generate three samples with 100 values each. Give each a standard deviation of `0.1`. Give the first sample a mean of `4.9`, the second a mean of `5.0`, and the third a mean of `5.1`. \n",
    "\n",
    "2. Perform one-way anova on the three samples and add `1` to `no_type_ii` whenever a type II error occurs.\n",
    "\n",
    "Summarize and explain your results."
   ]
  },
  {
   "cell_type": "markdown",
   "metadata": {},
   "source": []
  }
 ],
 "metadata": {
  "kernelspec": {
   "display_name": "base",
   "language": "python",
   "name": "python3"
  },
  "language_info": {
   "codemirror_mode": {
    "name": "ipython",
    "version": 3
   },
   "file_extension": ".py",
   "mimetype": "text/x-python",
   "name": "python",
   "nbconvert_exporter": "python",
   "pygments_lexer": "ipython3",
   "version": "3.11.4"
  }
 },
 "nbformat": 4,
 "nbformat_minor": 2
}
