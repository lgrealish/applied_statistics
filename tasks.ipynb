{
 "cells": [
  {
   "cell_type": "markdown",
   "metadata": {},
   "source": [
    "# Applied Statistics Tasks\n",
    "\n",
    "**Linda Grealish**\n",
    "\n",
    "***"
   ]
  },
  {
   "cell_type": "markdown",
   "metadata": {},
   "source": [
    "## Table of contents\n",
    " * [Task 1](#task-1)\n",
    " * [Task 2](#task-2)\n",
    " * [Task 3](#task-3)\n",
    " * [Task 4](#task-4)\n"
   ]
  },
  {
   "cell_type": "markdown",
   "metadata": {},
   "source": [
    "<a id=\"task-1\"></a>\n",
    "## Task 1"
   ]
  },
  {
   "cell_type": "markdown",
   "metadata": {},
   "source": [
    "Suppose we alter the Lady Tasting Tea experiment to involve twelve cups of tea.\n",
    "Six have the milk in first and the other six having tea in first.\n",
    "A person claims they have the special power of being able to tell whether the tea or the milk went into a cup first upon tasting it.\n",
    "You agree to accept their claim if they can tell which of the six cups in your experiment had the milk in first.\n",
    "\n",
    "Calculate, using Python, the probability that they select the correct six cups.\n",
    "Here you should assume that they have no special powers in figuring it out, that they are just guessing.\n",
    "Remember to show and justify your workings in code and MarkDown cells.\n",
    "\n",
    "Suppose, now, you are willing to accept one error.\n",
    "Once they select the six cups they think had the milk in first, you will give them the benefit of the doubt should they have selected at least five of the correct cups.\n",
    "Calculate the probability, assuming they have no special powers, that the person makes at most one error.\n",
    "\n",
    "Would you accept two errors? Explain."
   ]
  },
  {
   "cell_type": "code",
   "execution_count": 1,
   "metadata": {},
   "outputs": [],
   "source": [
    "import math"
   ]
  },
  {
   "cell_type": "code",
   "execution_count": 2,
   "metadata": {},
   "outputs": [],
   "source": [
    "# Number of cups in total\n",
    "no_cups = 12\n",
    "\n",
    "# Number of cups of tea with milk in first.\n",
    "no_cups_milk_first = 6\n",
    "\n",
    "# Number of cups of tea with tea in first.\n",
    "no_cups_tea_first = 6\n"
   ]
  },
  {
   "cell_type": "code",
   "execution_count": 3,
   "metadata": {},
   "outputs": [
    {
     "data": {
      "text/plain": [
       "924"
      ]
     },
     "execution_count": 3,
     "metadata": {},
     "output_type": "execute_result"
    }
   ],
   "source": [
    "# Number of ways of selecting four cups from eight.\n",
    "ways = math.comb(no_cups, no_cups_milk_first)\n",
    "\n",
    "# Show.\n",
    "ways"
   ]
  },
  {
   "cell_type": "code",
   "execution_count": 4,
   "metadata": {},
   "outputs": [],
   "source": [
    "# Define function to calculate number of possible combinations\n",
    "def number_combinations(n, k):\n",
    "  return math.comb(n, k)\n"
   ]
  },
  {
   "cell_type": "code",
   "execution_count": 5,
   "metadata": {},
   "outputs": [
    {
     "name": "stdout",
     "output_type": "stream",
     "text": [
      "The total number of combinations is 924\n"
     ]
    }
   ],
   "source": [
    "total_ways = number_combinations(12, 6)\n",
    "total_ways\n",
    "print(f'The total number of combinations is {total_ways}')"
   ]
  },
  {
   "cell_type": "code",
   "execution_count": 6,
   "metadata": {},
   "outputs": [
    {
     "data": {
      "text/plain": [
       "0.0010822510822510823"
      ]
     },
     "execution_count": 6,
     "metadata": {},
     "output_type": "execute_result"
    }
   ],
   "source": [
    "p_correct_selection = 1 / total_ways\n",
    "p_correct_selection"
   ]
  },
  {
   "cell_type": "code",
   "execution_count": 7,
   "metadata": {},
   "outputs": [
    {
     "name": "stdout",
     "output_type": "stream",
     "text": [
      "Total number of ways to select 6 cups from 12: 924\n",
      "Probability of selecting the correct 6 cups: 0.0010822511\n"
     ]
    }
   ],
   "source": [
    "print(f\"Total number of ways to select 6 cups from 12: {total_ways}\")\n",
    "print(f\"Probability of selecting the correct 6 cups: {p_correct_selection:.10f}\")"
   ]
  },
  {
   "cell_type": "code",
   "execution_count": 8,
   "metadata": {},
   "outputs": [
    {
     "name": "stdout",
     "output_type": "stream",
     "text": [
      "Probability of selecting exactly 6 correct cups (no errors): 0.0010822511\n",
      "Probability of selecting exactly 5 correct cups (1 error): 0.0389610390\n",
      "Total probability of making at most 1 error (0 or 1 error): 0.0400432900\n"
     ]
    }
   ],
   "source": [
    "# Probability of selecting exactly 6 correct cups (no errors)\n",
    "p_exact_6_correct = 1 / total_ways\n",
    "\n",
    "# Probability of selecting exactly 5 correct cups (1 error)\n",
    "# Choose 5 correct from 6, and 1 incorrect from 6\n",
    "ways_to_choose_5_correct = number_combinations(6, 5)\n",
    "ways_to_choose_1_incorrect = number_combinations(6, 1)\n",
    "p_exact_5_correct = (ways_to_choose_5_correct * ways_to_choose_1_incorrect) / total_ways\n",
    "\n",
    "# Total probability of making at most 1 error\n",
    "p_at_most_1_error = p_exact_6_correct + p_exact_5_correct\n",
    "\n",
    "# Output the result\n",
    "print(f\"Probability of selecting exactly 6 correct cups (no errors): {p_exact_6_correct:.10f}\")\n",
    "print(f\"Probability of selecting exactly 5 correct cups (1 error): {p_exact_5_correct:.10f}\")\n",
    "print(f\"Total probability of making at most 1 error (0 or 1 error): {p_at_most_1_error:.10f}\")\n"
   ]
  },
  {
   "cell_type": "code",
   "execution_count": 9,
   "metadata": {},
   "outputs": [
    {
     "name": "stdout",
     "output_type": "stream",
     "text": [
      "Probability of selecting exactly 6 correct cups (no errors): 0.0010822511\n",
      "Probability of selecting exactly 5 correct cups (1 error): 0.0389610390\n",
      "Probability of selecting exactly 4 correct cups (2 errors): 0.2435064935\n",
      "Total probability of making at most 2 errors (0, 1 or 2 errors): 0.2835497835\n"
     ]
    }
   ],
   "source": [
    "# Probability of selecting exactly 6 correct cups (no errors)\n",
    "p_exact_6_correct = 1 / total_ways\n",
    "\n",
    "# Probability of selecting exactly 4 correct cups (2 error)\n",
    "# Choose 4 correct from 6, and 2 incorrect from 6\n",
    "ways_to_choose_4_correct = number_combinations(6, 4)\n",
    "ways_to_choose_2_incorrect = number_combinations(6, 2)\n",
    "p_exact_4_correct = (ways_to_choose_4_correct * ways_to_choose_2_incorrect) / total_ways\n",
    "\n",
    "# Total probability of making at most 2 error\n",
    "p_at_most_2_errors = p_exact_6_correct + p_exact_5_correct + p_exact_4_correct\n",
    "\n",
    "# Output the result\n",
    "print(f\"Probability of selecting exactly 6 correct cups (no errors): {p_exact_6_correct:.10f}\")\n",
    "print(f\"Probability of selecting exactly 5 correct cups (1 error): {p_exact_5_correct:.10f}\")\n",
    "print(f\"Probability of selecting exactly 4 correct cups (2 errors): {p_exact_4_correct:.10f}\")\n",
    "print(f\"Total probability of making at most 2 errors (0, 1 or 2 errors): {p_at_most_2_errors:.10f}\")\n"
   ]
  },
  {
   "cell_type": "markdown",
   "metadata": {},
   "source": [
    "<a id=\"task-2\"></a>\n",
    "## Task 2"
   ]
  },
  {
   "cell_type": "markdown",
   "metadata": {},
   "source": [
    "In this task you will assess whether `numpy.random.normal()` properly generates normal values.\n",
    "To begin, generate a sample of one hundred thousand values using the function with mean `10.0` and standard deviation `3.0`.\n",
    "\n",
    "Use the `scipy.stats.shapiro()` function to test whether your sample came from a normal distribution.\n",
    "Explain the results and output.\n",
    "\n",
    "Plot a histogram of your values and plot the corresponding normal distribution probability density function on top of it."
   ]
  },
  {
   "cell_type": "code",
   "execution_count": 10,
   "metadata": {},
   "outputs": [],
   "source": [
    "import numpy as np\n",
    "import scipy.stats as stats\n",
    "import matplotlib.pyplot as plt"
   ]
  },
  {
   "cell_type": "code",
   "execution_count": null,
   "metadata": {},
   "outputs": [],
   "source": [
    "# Define parameters\n",
    "mean = 10.0\n",
    "std_dev = 3.0\n",
    "n = 100000"
   ]
  },
  {
   "cell_type": "code",
   "execution_count": null,
   "metadata": {},
   "outputs": [
    {
     "data": {
      "text/plain": [
       "array([ 3.57440652,  9.03850547, 14.39749371, ...,  8.31870629,\n",
       "       13.66812341,  9.27856215])"
      ]
     },
     "execution_count": 12,
     "metadata": {},
     "output_type": "execute_result"
    }
   ],
   "source": [
    "# Generate our random normal sample based on above parameters\n",
    "sample = np.random.normal(mean, std_dev, n)\n",
    "\n",
    "#Show\n",
    "sample"
   ]
  },
  {
   "cell_type": "code",
   "execution_count": 13,
   "metadata": {},
   "outputs": [
    {
     "name": "stderr",
     "output_type": "stream",
     "text": [
      "c:\\Users\\lgrealish\\AppData\\Local\\anaconda3\\Lib\\site-packages\\scipy\\stats\\_morestats.py:1816: UserWarning: p-value may not be accurate for N > 5000.\n",
      "  warnings.warn(\"p-value may not be accurate for N > 5000.\")\n"
     ]
    }
   ],
   "source": [
    "# Run the Shapiro test on the generated sample\n",
    "shapiro_test = stats.shapiro(sample)"
   ]
  },
  {
   "cell_type": "code",
   "execution_count": 14,
   "metadata": {},
   "outputs": [
    {
     "name": "stdout",
     "output_type": "stream",
     "text": [
      "Shapiro-Wilk Test Results:\n",
      "Statistic: 0.999974250793457\n",
      "P-value: 0.7488809823989868\n"
     ]
    }
   ],
   "source": [
    "print(\"Shapiro-Wilk Test Results:\")\n",
    "print(f\"Statistic: {shapiro_test.statistic}\")\n",
    "print(f\"P-value: {shapiro_test.pvalue}\")"
   ]
  },
  {
   "cell_type": "markdown",
   "metadata": {},
   "source": []
  },
  {
   "cell_type": "markdown",
   "metadata": {},
   "source": [
    "## References\n",
    "\n",
    "https://numpy.org/doc/stable/reference/random/generated/numpy.random.normal.html\n",
    "\n",
    "https://statistics.laerd.com/spss-tutorials/testing-for-normality-using-spss-statistics.php#:~:text=If%20the%20Sig.,deviate%20from%20a%20normal%20distribution.\n",
    "\n",
    "https://docs.scipy.org/doc/scipy/reference/generated/scipy.stats.shapiro.html\n",
    "\n",
    "https://en.wikipedia.org/wiki/Shapiro%E2%80%93Wilk_test\n",
    "\n",
    "https://www.kaggle.com/discussions/general/432129\n",
    "\n"
   ]
  },
  {
   "cell_type": "code",
   "execution_count": 15,
   "metadata": {},
   "outputs": [
    {
     "data": {
      "text/plain": [
       "[<matplotlib.lines.Line2D at 0x2017978a510>]"
      ]
     },
     "execution_count": 15,
     "metadata": {},
     "output_type": "execute_result"
    },
    {
     "data": {
      "image/png": "[encoded data removed]",
      "text/plain": [
       "<Figure size 640x480 with 1 Axes>"
      ]
     },
     "metadata": {},
     "output_type": "display_data"
    }
   ],
   "source": [
    "# Plot histogram of the generated sample\n",
    "fig, ax = plt.subplots()\n",
    "\n",
    "plt.hist(sample, bins=50, density=True, alpha=0.6, color='b', label='Sample Histogram')\n",
    "x = np.linspace(mean - 5*std_dev, mean + 5*std_dev, 100000)\n",
    "pdf = stats.norm.pdf(x, loc=mean, scale=std_dev)\n",
    "plt.plot(x, pdf, 'r', label='Normal Distribution PDF')\n"
   ]
  },
  {
   "cell_type": "markdown",
   "metadata": {},
   "source": [
    "<a id=\"task-3\"></a>\n",
    "## Task 3"
   ]
  },
  {
   "cell_type": "markdown",
   "metadata": {},
   "source": [
    "Consider the following dataset containing resting heart rates for patients before and after embarking on a two-week exercise program.\n",
    "\n",
    "| Patient ID |  0 |  1 |  2 |  3 |  4 |  5 |  6 |  7 |  8 |  9 |\n",
    "|:-----------|---:|---:|---:|---:|---:|---:|---:|---:|---:|---:|\n",
    "| Before     | 63 | 68 | 70 | 64 | 74 | 67 | 70 | 57 | 66 | 65 |\n",
    "| After      | 64 | 64 | 68 | 64 | 73 | 70 | 72 | 54 | 61 | 63 |\n",
    "\n",
    "Calculate the t-statistic based on this data set, using Python.\n",
    "Compare it to the value given by `scipy.stats`.\n",
    "Explain your work and list any sources used."
   ]
  },
  {
   "cell_type": "markdown",
   "metadata": {},
   "source": [
    "<a id=\"task-4\"></a>\n",
    "## Task 4"
   ]
  },
  {
   "cell_type": "markdown",
   "metadata": {},
   "source": []
  },
  {
   "cell_type": "markdown",
   "metadata": {},
   "source": []
  }
 ],
 "metadata": {
  "kernelspec": {
   "display_name": "Python 3",
   "language": "python",
   "name": "python3"
  },
  "language_info": {
   "codemirror_mode": {
    "name": "ipython",
    "version": 3
   },
   "file_extension": ".py",
   "mimetype": "text/x-python",
   "name": "python",
   "nbconvert_exporter": "python",
   "pygments_lexer": "ipython3",
   "version": "3.11.4"
  }
 },
 "nbformat": 4,
 "nbformat_minor": 2
}
